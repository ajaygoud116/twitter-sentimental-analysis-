{
  "cells": [
    {
      "cell_type": "markdown",
      "metadata": {
        "id": "Vhkn76BlX20J"
      },
      "source": [
        "importing necessary *libraries*"
      ]
    },
    {
      "cell_type": "code",
      "execution_count": 11,
      "metadata": {
        "id": "-I2I-mJvYAEs"
      },
      "outputs": [],
      "source": [
        "import numpy as np\n",
        "import pandas as pd\n",
        "import re #regular expression libraray\n",
        "from sklearn.model_selection import train_test_split\n",
        "from nltk.corpus import stopwords\n",
        "from nltk.stem.porter import PorterStemmer\n",
        "from sklearn.feature_extraction.text import TfidfVectorizer\n",
        "from sklearn.linear_model import LogisticRegression\n",
        "from sklearn.metrics import accuracy_score\n"
      ]
    },
    {
      "cell_type": "code",
      "execution_count": 14,
      "metadata": {
        "colab": {
          "base_uri": "https://localhost:8080/"
        },
        "id": "BLh5w8FEYHwx",
        "outputId": "964f4722-b153-47c0-b231-1ccc3a877073"
      },
      "outputs": [
        {
          "output_type": "stream",
          "name": "stdout",
          "text": [
            "Drive already mounted at /content/drive; to attempt to forcibly remount, call drive.mount(\"/content/drive\", force_remount=True).\n"
          ]
        }
      ],
      "source": [
        "from google.colab import drive\n",
        "drive.mount('/content/drive')\n",
        "data=pd.read_csv(\"/content/drive/MyDrive/twitter sentiment analysis using logistic regression/training.1600000.processed.noemoticon.csv\", encoding='-ISO-8859-1')"
      ]
    },
    {
      "cell_type": "code",
      "execution_count": 38,
      "metadata": {
        "id": "WDkToGo5dqz-",
        "colab": {
          "base_uri": "https://localhost:8080/"
        },
        "outputId": "146d76ff-ced6-4ce7-fa76-38fa7091d6a6"
      },
      "outputs": [
        {
          "output_type": "stream",
          "name": "stdout",
          "text": [
            "object\n"
          ]
        }
      ],
      "source": [
        "data.head()\n",
        "print(data[\"text\"].dtype)"
      ]
    },
    {
      "cell_type": "code",
      "source": [
        "columns=[\"target\",\"ids\",\"date\",\"flag\",\"user\",\"text\"]\n",
        "data=pd.read_csv(\"/content/drive/MyDrive/twitter sentiment analysis using logistic regression/training.1600000.processed.noemoticon.csv\", encoding='-ISO-8859-1',names=columns)\n",
        "data.head()"
      ],
      "metadata": {
        "colab": {
          "base_uri": "https://localhost:8080/",
          "height": 206
        },
        "id": "gmB_RGXHS0m4",
        "outputId": "d7e81ceb-efc1-4166-acfc-44e83ed095d2"
      },
      "execution_count": 18,
      "outputs": [
        {
          "output_type": "execute_result",
          "data": {
            "text/plain": [
              "   target         ids                          date      flag  \\\n",
              "0       0  1467810369  Mon Apr 06 22:19:45 PDT 2009  NO_QUERY   \n",
              "1       0  1467810672  Mon Apr 06 22:19:49 PDT 2009  NO_QUERY   \n",
              "2       0  1467810917  Mon Apr 06 22:19:53 PDT 2009  NO_QUERY   \n",
              "3       0  1467811184  Mon Apr 06 22:19:57 PDT 2009  NO_QUERY   \n",
              "4       0  1467811193  Mon Apr 06 22:19:57 PDT 2009  NO_QUERY   \n",
              "\n",
              "              user                                               text  \n",
              "0  _TheSpecialOne_  @switchfoot http://twitpic.com/2y1zl - Awww, t...  \n",
              "1    scotthamilton  is upset that he can't update his Facebook by ...  \n",
              "2         mattycus  @Kenichan I dived many times for the ball. Man...  \n",
              "3          ElleCTF    my whole body feels itchy and like its on fire   \n",
              "4           Karoli  @nationwideclass no, it's not behaving at all....  "
            ],
            "text/html": [
              "\n",
              "  <div id=\"df-7c1b92ce-e089-4170-a088-1bbea9a4c3e1\" class=\"colab-df-container\">\n",
              "    <div>\n",
              "<style scoped>\n",
              "    .dataframe tbody tr th:only-of-type {\n",
              "        vertical-align: middle;\n",
              "    }\n",
              "\n",
              "    .dataframe tbody tr th {\n",
              "        vertical-align: top;\n",
              "    }\n",
              "\n",
              "    .dataframe thead th {\n",
              "        text-align: right;\n",
              "    }\n",
              "</style>\n",
              "<table border=\"1\" class=\"dataframe\">\n",
              "  <thead>\n",
              "    <tr style=\"text-align: right;\">\n",
              "      <th></th>\n",
              "      <th>target</th>\n",
              "      <th>ids</th>\n",
              "      <th>date</th>\n",
              "      <th>flag</th>\n",
              "      <th>user</th>\n",
              "      <th>text</th>\n",
              "    </tr>\n",
              "  </thead>\n",
              "  <tbody>\n",
              "    <tr>\n",
              "      <th>0</th>\n",
              "      <td>0</td>\n",
              "      <td>1467810369</td>\n",
              "      <td>Mon Apr 06 22:19:45 PDT 2009</td>\n",
              "      <td>NO_QUERY</td>\n",
              "      <td>_TheSpecialOne_</td>\n",
              "      <td>@switchfoot http://twitpic.com/2y1zl - Awww, t...</td>\n",
              "    </tr>\n",
              "    <tr>\n",
              "      <th>1</th>\n",
              "      <td>0</td>\n",
              "      <td>1467810672</td>\n",
              "      <td>Mon Apr 06 22:19:49 PDT 2009</td>\n",
              "      <td>NO_QUERY</td>\n",
              "      <td>scotthamilton</td>\n",
              "      <td>is upset that he can't update his Facebook by ...</td>\n",
              "    </tr>\n",
              "    <tr>\n",
              "      <th>2</th>\n",
              "      <td>0</td>\n",
              "      <td>1467810917</td>\n",
              "      <td>Mon Apr 06 22:19:53 PDT 2009</td>\n",
              "      <td>NO_QUERY</td>\n",
              "      <td>mattycus</td>\n",
              "      <td>@Kenichan I dived many times for the ball. Man...</td>\n",
              "    </tr>\n",
              "    <tr>\n",
              "      <th>3</th>\n",
              "      <td>0</td>\n",
              "      <td>1467811184</td>\n",
              "      <td>Mon Apr 06 22:19:57 PDT 2009</td>\n",
              "      <td>NO_QUERY</td>\n",
              "      <td>ElleCTF</td>\n",
              "      <td>my whole body feels itchy and like its on fire</td>\n",
              "    </tr>\n",
              "    <tr>\n",
              "      <th>4</th>\n",
              "      <td>0</td>\n",
              "      <td>1467811193</td>\n",
              "      <td>Mon Apr 06 22:19:57 PDT 2009</td>\n",
              "      <td>NO_QUERY</td>\n",
              "      <td>Karoli</td>\n",
              "      <td>@nationwideclass no, it's not behaving at all....</td>\n",
              "    </tr>\n",
              "  </tbody>\n",
              "</table>\n",
              "</div>\n",
              "    <div class=\"colab-df-buttons\">\n",
              "\n",
              "  <div class=\"colab-df-container\">\n",
              "    <button class=\"colab-df-convert\" onclick=\"convertToInteractive('df-7c1b92ce-e089-4170-a088-1bbea9a4c3e1')\"\n",
              "            title=\"Convert this dataframe to an interactive table.\"\n",
              "            style=\"display:none;\">\n",
              "\n",
              "  <svg xmlns=\"http://www.w3.org/2000/svg\" height=\"24px\" viewBox=\"0 -960 960 960\">\n",
              "    <path d=\"M120-120v-720h720v720H120Zm60-500h600v-160H180v160Zm220 220h160v-160H400v160Zm0 220h160v-160H400v160ZM180-400h160v-160H180v160Zm440 0h160v-160H620v160ZM180-180h160v-160H180v160Zm440 0h160v-160H620v160Z\"/>\n",
              "  </svg>\n",
              "    </button>\n",
              "\n",
              "  <style>\n",
              "    .colab-df-container {\n",
              "      display:flex;\n",
              "      gap: 12px;\n",
              "    }\n",
              "\n",
              "    .colab-df-convert {\n",
              "      background-color: #E8F0FE;\n",
              "      border: none;\n",
              "      border-radius: 50%;\n",
              "      cursor: pointer;\n",
              "      display: none;\n",
              "      fill: #1967D2;\n",
              "      height: 32px;\n",
              "      padding: 0 0 0 0;\n",
              "      width: 32px;\n",
              "    }\n",
              "\n",
              "    .colab-df-convert:hover {\n",
              "      background-color: #E2EBFA;\n",
              "      box-shadow: 0px 1px 2px rgba(60, 64, 67, 0.3), 0px 1px 3px 1px rgba(60, 64, 67, 0.15);\n",
              "      fill: #174EA6;\n",
              "    }\n",
              "\n",
              "    .colab-df-buttons div {\n",
              "      margin-bottom: 4px;\n",
              "    }\n",
              "\n",
              "    [theme=dark] .colab-df-convert {\n",
              "      background-color: #3B4455;\n",
              "      fill: #D2E3FC;\n",
              "    }\n",
              "\n",
              "    [theme=dark] .colab-df-convert:hover {\n",
              "      background-color: #434B5C;\n",
              "      box-shadow: 0px 1px 3px 1px rgba(0, 0, 0, 0.15);\n",
              "      filter: drop-shadow(0px 1px 2px rgba(0, 0, 0, 0.3));\n",
              "      fill: #FFFFFF;\n",
              "    }\n",
              "  </style>\n",
              "\n",
              "    <script>\n",
              "      const buttonEl =\n",
              "        document.querySelector('#df-7c1b92ce-e089-4170-a088-1bbea9a4c3e1 button.colab-df-convert');\n",
              "      buttonEl.style.display =\n",
              "        google.colab.kernel.accessAllowed ? 'block' : 'none';\n",
              "\n",
              "      async function convertToInteractive(key) {\n",
              "        const element = document.querySelector('#df-7c1b92ce-e089-4170-a088-1bbea9a4c3e1');\n",
              "        const dataTable =\n",
              "          await google.colab.kernel.invokeFunction('convertToInteractive',\n",
              "                                                    [key], {});\n",
              "        if (!dataTable) return;\n",
              "\n",
              "        const docLinkHtml = 'Like what you see? Visit the ' +\n",
              "          '<a target=\"_blank\" href=https://colab.research.google.com/notebooks/data_table.ipynb>data table notebook</a>'\n",
              "          + ' to learn more about interactive tables.';\n",
              "        element.innerHTML = '';\n",
              "        dataTable['output_type'] = 'display_data';\n",
              "        await google.colab.output.renderOutput(dataTable, element);\n",
              "        const docLink = document.createElement('div');\n",
              "        docLink.innerHTML = docLinkHtml;\n",
              "        element.appendChild(docLink);\n",
              "      }\n",
              "    </script>\n",
              "  </div>\n",
              "\n",
              "\n",
              "<div id=\"df-e33b3ca1-1a30-4bcb-9b71-d5bae1f5efc3\">\n",
              "  <button class=\"colab-df-quickchart\" onclick=\"quickchart('df-e33b3ca1-1a30-4bcb-9b71-d5bae1f5efc3')\"\n",
              "            title=\"Suggest charts\"\n",
              "            style=\"display:none;\">\n",
              "\n",
              "<svg xmlns=\"http://www.w3.org/2000/svg\" height=\"24px\"viewBox=\"0 0 24 24\"\n",
              "     width=\"24px\">\n",
              "    <g>\n",
              "        <path d=\"M19 3H5c-1.1 0-2 .9-2 2v14c0 1.1.9 2 2 2h14c1.1 0 2-.9 2-2V5c0-1.1-.9-2-2-2zM9 17H7v-7h2v7zm4 0h-2V7h2v10zm4 0h-2v-4h2v4z\"/>\n",
              "    </g>\n",
              "</svg>\n",
              "  </button>\n",
              "\n",
              "<style>\n",
              "  .colab-df-quickchart {\n",
              "      --bg-color: #E8F0FE;\n",
              "      --fill-color: #1967D2;\n",
              "      --hover-bg-color: #E2EBFA;\n",
              "      --hover-fill-color: #174EA6;\n",
              "      --disabled-fill-color: #AAA;\n",
              "      --disabled-bg-color: #DDD;\n",
              "  }\n",
              "\n",
              "  [theme=dark] .colab-df-quickchart {\n",
              "      --bg-color: #3B4455;\n",
              "      --fill-color: #D2E3FC;\n",
              "      --hover-bg-color: #434B5C;\n",
              "      --hover-fill-color: #FFFFFF;\n",
              "      --disabled-bg-color: #3B4455;\n",
              "      --disabled-fill-color: #666;\n",
              "  }\n",
              "\n",
              "  .colab-df-quickchart {\n",
              "    background-color: var(--bg-color);\n",
              "    border: none;\n",
              "    border-radius: 50%;\n",
              "    cursor: pointer;\n",
              "    display: none;\n",
              "    fill: var(--fill-color);\n",
              "    height: 32px;\n",
              "    padding: 0;\n",
              "    width: 32px;\n",
              "  }\n",
              "\n",
              "  .colab-df-quickchart:hover {\n",
              "    background-color: var(--hover-bg-color);\n",
              "    box-shadow: 0 1px 2px rgba(60, 64, 67, 0.3), 0 1px 3px 1px rgba(60, 64, 67, 0.15);\n",
              "    fill: var(--button-hover-fill-color);\n",
              "  }\n",
              "\n",
              "  .colab-df-quickchart-complete:disabled,\n",
              "  .colab-df-quickchart-complete:disabled:hover {\n",
              "    background-color: var(--disabled-bg-color);\n",
              "    fill: var(--disabled-fill-color);\n",
              "    box-shadow: none;\n",
              "  }\n",
              "\n",
              "  .colab-df-spinner {\n",
              "    border: 2px solid var(--fill-color);\n",
              "    border-color: transparent;\n",
              "    border-bottom-color: var(--fill-color);\n",
              "    animation:\n",
              "      spin 1s steps(1) infinite;\n",
              "  }\n",
              "\n",
              "  @keyframes spin {\n",
              "    0% {\n",
              "      border-color: transparent;\n",
              "      border-bottom-color: var(--fill-color);\n",
              "      border-left-color: var(--fill-color);\n",
              "    }\n",
              "    20% {\n",
              "      border-color: transparent;\n",
              "      border-left-color: var(--fill-color);\n",
              "      border-top-color: var(--fill-color);\n",
              "    }\n",
              "    30% {\n",
              "      border-color: transparent;\n",
              "      border-left-color: var(--fill-color);\n",
              "      border-top-color: var(--fill-color);\n",
              "      border-right-color: var(--fill-color);\n",
              "    }\n",
              "    40% {\n",
              "      border-color: transparent;\n",
              "      border-right-color: var(--fill-color);\n",
              "      border-top-color: var(--fill-color);\n",
              "    }\n",
              "    60% {\n",
              "      border-color: transparent;\n",
              "      border-right-color: var(--fill-color);\n",
              "    }\n",
              "    80% {\n",
              "      border-color: transparent;\n",
              "      border-right-color: var(--fill-color);\n",
              "      border-bottom-color: var(--fill-color);\n",
              "    }\n",
              "    90% {\n",
              "      border-color: transparent;\n",
              "      border-bottom-color: var(--fill-color);\n",
              "    }\n",
              "  }\n",
              "</style>\n",
              "\n",
              "  <script>\n",
              "    async function quickchart(key) {\n",
              "      const quickchartButtonEl =\n",
              "        document.querySelector('#' + key + ' button');\n",
              "      quickchartButtonEl.disabled = true;  // To prevent multiple clicks.\n",
              "      quickchartButtonEl.classList.add('colab-df-spinner');\n",
              "      try {\n",
              "        const charts = await google.colab.kernel.invokeFunction(\n",
              "            'suggestCharts', [key], {});\n",
              "      } catch (error) {\n",
              "        console.error('Error during call to suggestCharts:', error);\n",
              "      }\n",
              "      quickchartButtonEl.classList.remove('colab-df-spinner');\n",
              "      quickchartButtonEl.classList.add('colab-df-quickchart-complete');\n",
              "    }\n",
              "    (() => {\n",
              "      let quickchartButtonEl =\n",
              "        document.querySelector('#df-e33b3ca1-1a30-4bcb-9b71-d5bae1f5efc3 button');\n",
              "      quickchartButtonEl.style.display =\n",
              "        google.colab.kernel.accessAllowed ? 'block' : 'none';\n",
              "    })();\n",
              "  </script>\n",
              "</div>\n",
              "\n",
              "    </div>\n",
              "  </div>\n"
            ],
            "application/vnd.google.colaboratory.intrinsic+json": {
              "type": "dataframe",
              "variable_name": "data"
            }
          },
          "metadata": {},
          "execution_count": 18
        }
      ]
    },
    {
      "cell_type": "code",
      "source": [
        "data.isnull().sum()"
      ],
      "metadata": {
        "colab": {
          "base_uri": "https://localhost:8080/",
          "height": 272
        },
        "id": "a8aJuTHFVkEF",
        "outputId": "52e38db2-4c81-4f9a-b590-36f6ba84d8a9"
      },
      "execution_count": 23,
      "outputs": [
        {
          "output_type": "execute_result",
          "data": {
            "text/plain": [
              "target    0\n",
              "ids       0\n",
              "date      0\n",
              "flag      0\n",
              "user      0\n",
              "text      0\n",
              "dtype: int64"
            ],
            "text/html": [
              "<div>\n",
              "<style scoped>\n",
              "    .dataframe tbody tr th:only-of-type {\n",
              "        vertical-align: middle;\n",
              "    }\n",
              "\n",
              "    .dataframe tbody tr th {\n",
              "        vertical-align: top;\n",
              "    }\n",
              "\n",
              "    .dataframe thead th {\n",
              "        text-align: right;\n",
              "    }\n",
              "</style>\n",
              "<table border=\"1\" class=\"dataframe\">\n",
              "  <thead>\n",
              "    <tr style=\"text-align: right;\">\n",
              "      <th></th>\n",
              "      <th>0</th>\n",
              "    </tr>\n",
              "  </thead>\n",
              "  <tbody>\n",
              "    <tr>\n",
              "      <th>target</th>\n",
              "      <td>0</td>\n",
              "    </tr>\n",
              "    <tr>\n",
              "      <th>ids</th>\n",
              "      <td>0</td>\n",
              "    </tr>\n",
              "    <tr>\n",
              "      <th>date</th>\n",
              "      <td>0</td>\n",
              "    </tr>\n",
              "    <tr>\n",
              "      <th>flag</th>\n",
              "      <td>0</td>\n",
              "    </tr>\n",
              "    <tr>\n",
              "      <th>user</th>\n",
              "      <td>0</td>\n",
              "    </tr>\n",
              "    <tr>\n",
              "      <th>text</th>\n",
              "      <td>0</td>\n",
              "    </tr>\n",
              "  </tbody>\n",
              "</table>\n",
              "</div><br><label><b>dtype:</b> int64</label>"
            ]
          },
          "metadata": {},
          "execution_count": 23
        }
      ]
    },
    {
      "cell_type": "code",
      "source": [
        "data[\"target\"].value_counts()"
      ],
      "metadata": {
        "colab": {
          "base_uri": "https://localhost:8080/",
          "height": 178
        },
        "id": "AkR9Sp9kWRKj",
        "outputId": "f9f662fd-fb73-4f17-bc4b-99a59c771cb2"
      },
      "execution_count": 24,
      "outputs": [
        {
          "output_type": "execute_result",
          "data": {
            "text/plain": [
              "target\n",
              "0    800000\n",
              "4    800000\n",
              "Name: count, dtype: int64"
            ],
            "text/html": [
              "<div>\n",
              "<style scoped>\n",
              "    .dataframe tbody tr th:only-of-type {\n",
              "        vertical-align: middle;\n",
              "    }\n",
              "\n",
              "    .dataframe tbody tr th {\n",
              "        vertical-align: top;\n",
              "    }\n",
              "\n",
              "    .dataframe thead th {\n",
              "        text-align: right;\n",
              "    }\n",
              "</style>\n",
              "<table border=\"1\" class=\"dataframe\">\n",
              "  <thead>\n",
              "    <tr style=\"text-align: right;\">\n",
              "      <th></th>\n",
              "      <th>count</th>\n",
              "    </tr>\n",
              "    <tr>\n",
              "      <th>target</th>\n",
              "      <th></th>\n",
              "    </tr>\n",
              "  </thead>\n",
              "  <tbody>\n",
              "    <tr>\n",
              "      <th>0</th>\n",
              "      <td>800000</td>\n",
              "    </tr>\n",
              "    <tr>\n",
              "      <th>4</th>\n",
              "      <td>800000</td>\n",
              "    </tr>\n",
              "  </tbody>\n",
              "</table>\n",
              "</div><br><label><b>dtype:</b> int64</label>"
            ]
          },
          "metadata": {},
          "execution_count": 24
        }
      ]
    },
    {
      "cell_type": "code",
      "source": [
        "data.replace([4],[1],inplace=True)"
      ],
      "metadata": {
        "id": "qSdy3xPRWTSS"
      },
      "execution_count": 25,
      "outputs": []
    },
    {
      "cell_type": "markdown",
      "source": [
        "text preprocessing"
      ],
      "metadata": {
        "id": "Gtje0mr6Ww94"
      }
    },
    {
      "cell_type": "code",
      "source": [
        "ps=PorterStemmer()\n",
        "def stemming(text):\n",
        "  stemming_text=text.lower()\n",
        "  stemming_text=\"\".join([c for c in text if c.isalnum() or c.isspace()]) #removing the special characters\n",
        "  stemming_text=stemming_text.split()\n",
        "  stemming_text=[ps.stem(word) for word in stemming_text if word not in stopwords.words('english')]\n",
        "  stemming_text=\" \".join(stemming_text)\n",
        "  return stemming_text\n",
        "data[\"stemmed_data\"]=data[\"text\"].apply(stemming)"
      ],
      "metadata": {
        "id": "zAT0u8jlWzD1"
      },
      "execution_count": 26,
      "outputs": []
    },
    {
      "cell_type": "code",
      "source": [
        "X=data[\"stemmed_data\"].values\n",
        "y=data[\"target\"].values\n",
        "X_train,X_test,y_train,y_test=train_test_split(X,y,test_size=0.2,stratify=y,random_state=2)\n",
        "vectorizer=TfidfVectorizer()\n",
        "X_train=vectorizer.fit_transform(X_train)\n",
        "X_test=vectorizer.transform(X_test)"
      ],
      "metadata": {
        "id": "6VS4Au1UY2dE"
      },
      "execution_count": null,
      "outputs": []
    },
    {
      "cell_type": "markdown",
      "source": [
        "creating ML model logistic regression\n"
      ],
      "metadata": {
        "id": "6iHajoepZ9t0"
      }
    },
    {
      "cell_type": "code",
      "source": [
        "print(X_train)\n",
        "print(X_test)"
      ],
      "metadata": {
        "colab": {
          "base_uri": "https://localhost:8080/"
        },
        "id": "J8FYWqGaaDdn",
        "outputId": "5a5be63a-59e0-4723-a4fa-11ab78b08b30"
      },
      "execution_count": 28,
      "outputs": [
        {
          "output_type": "stream",
          "name": "stdout",
          "text": [
            "  (0, 635023)\t0.27185619477401424\n",
            "  (0, 526338)\t0.3572368601721922\n",
            "  (0, 306051)\t0.5289558736505798\n",
            "  (0, 155665)\t0.37500971658120597\n",
            "  (0, 364397)\t0.4201488011008131\n",
            "  (0, 644304)\t0.4489147093057786\n",
            "  (1, 222401)\t0.9735756315752642\n",
            "  (1, 296625)\t0.22836481691106764\n",
            "  (2, 155665)\t0.46221360915332715\n",
            "  (2, 296625)\t0.11805968011878909\n",
            "  (2, 174051)\t0.19049806487955614\n",
            "  (2, 595380)\t0.18832213903949507\n",
            "  (2, 181431)\t0.291592042723569\n",
            "  (2, 593982)\t0.32252824840643696\n",
            "  (2, 630938)\t0.3320802314498419\n",
            "  (2, 114952)\t0.31554393572550504\n",
            "  (2, 644838)\t0.33684882171015035\n",
            "  (2, 404837)\t0.24379038813702913\n",
            "  (2, 598071)\t0.1531204789500814\n",
            "  (2, 208534)\t0.1889218766287001\n",
            "  (2, 185024)\t0.20356605788086823\n",
            "  (2, 432917)\t0.1682044181233032\n",
            "  (3, 593982)\t0.2897156760024441\n",
            "  (3, 219764)\t0.4472269018910956\n",
            "  (3, 210185)\t0.27802924118981875\n",
            "  :\t:\n",
            "  (1279996, 573824)\t0.21775605929636588\n",
            "  (1279996, 550927)\t0.3569565396691649\n",
            "  (1279996, 368229)\t0.5364861194239735\n",
            "  (1279996, 368231)\t0.5520640451393458\n",
            "  (1279997, 21149)\t0.4885112505441333\n",
            "  (1279997, 412888)\t0.43623517127568584\n",
            "  (1279997, 159811)\t0.7556822304605819\n",
            "  (1279998, 603337)\t0.2737555387220061\n",
            "  (1279998, 135761)\t0.21349711598481066\n",
            "  (1279998, 234804)\t0.25848724801587475\n",
            "  (1279998, 174607)\t0.31262899210665074\n",
            "  (1279998, 93130)\t0.23865195051433905\n",
            "  (1279998, 633103)\t0.27652411538446225\n",
            "  (1279998, 212093)\t0.27527645727003824\n",
            "  (1279998, 216156)\t0.30478987728059503\n",
            "  (1279998, 224288)\t0.3357204155202089\n",
            "  (1279998, 416334)\t0.3756307109598929\n",
            "  (1279998, 566903)\t0.3987773525241049\n",
            "  (1279999, 373770)\t0.18479025898131005\n",
            "  (1279999, 55550)\t0.23462178282664004\n",
            "  (1279999, 604751)\t0.31561695891289804\n",
            "  (1279999, 633335)\t0.2984884462681905\n",
            "  (1279999, 631003)\t0.34060024000723477\n",
            "  (1279999, 139370)\t0.5093707201212548\n",
            "  (1279999, 188992)\t0.5887518219844531\n",
            "  (0, 33721)\t0.1723551061332344\n",
            "  (0, 55022)\t0.15826682861203017\n",
            "  (0, 102237)\t0.2612481546010669\n",
            "  (0, 151281)\t0.3587115097048268\n",
            "  (0, 185097)\t0.24911468313351592\n",
            "  (0, 192770)\t0.23191555711665723\n",
            "  (0, 222732)\t0.21804345892858792\n",
            "  (0, 288811)\t0.2740449700756393\n",
            "  (0, 410194)\t0.4401133906197943\n",
            "  (0, 421254)\t0.17345759161197757\n",
            "  (0, 571233)\t0.21461964741080045\n",
            "  (0, 584600)\t0.3387498943242265\n",
            "  (0, 598071)\t0.307203508876396\n",
            "  (0, 615310)\t0.17566964384010836\n",
            "  (1, 22604)\t0.30504574365189047\n",
            "  (1, 33721)\t0.21432446713542896\n",
            "  (1, 202039)\t0.5694262443476116\n",
            "  (1, 343344)\t0.40729191354880223\n",
            "  (1, 392150)\t0.28410353142225014\n",
            "  (1, 518238)\t0.4807803526282237\n",
            "  (1, 541414)\t0.24292921280281687\n",
            "  (2, 43516)\t0.3535056827191838\n",
            "  (2, 59465)\t0.3800458532744081\n",
            "  (2, 130362)\t0.36311823242906727\n",
            "  (2, 303330)\t0.5864239124407977\n",
            "  :\t:\n",
            "  (319995, 295800)\t0.23607962480245223\n",
            "  (319995, 338464)\t0.27280320271591385\n",
            "  (319995, 361657)\t0.2622871137605121\n",
            "  (319995, 394152)\t0.3024139430999502\n",
            "  (319995, 468871)\t0.29037946103695267\n",
            "  (319995, 480522)\t0.3745841665090759\n",
            "  (319995, 593526)\t0.2868902480653353\n",
            "  (319995, 609054)\t0.2421747912868754\n",
            "  (319995, 615310)\t0.23185173925324107\n",
            "  (319996, 582873)\t0.8610159740819961\n",
            "  (319996, 638417)\t0.39337490567950695\n",
            "  (319996, 662816)\t0.32234713579814916\n",
            "  (319997, 9344)\t0.504194629155933\n",
            "  (319997, 142576)\t0.42318976011315196\n",
            "  (319997, 234731)\t0.33955042025704874\n",
            "  (319997, 397925)\t0.31383766164903837\n",
            "  (319997, 432857)\t0.4082415166233865\n",
            "  (319997, 520498)\t0.27307245406454117\n",
            "  (319997, 609582)\t0.24757940943544804\n",
            "  (319997, 646601)\t0.22446463431777056\n",
            "  (319998, 182310)\t0.5212375962717433\n",
            "  (319998, 441457)\t0.6648104074754083\n",
            "  (319998, 638501)\t0.5351060552313316\n",
            "  (319999, 573346)\t0.9573351502263501\n",
            "  (319999, 586722)\t0.2889799476453197\n"
          ]
        }
      ]
    },
    {
      "cell_type": "code",
      "source": [
        "# creating the model\n",
        "model=LogisticRegression(max_iter=1000)"
      ],
      "metadata": {
        "id": "ru3hGiiVkuc2"
      },
      "execution_count": 31,
      "outputs": []
    },
    {
      "cell_type": "code",
      "source": [
        "model.fit(X_train,y_train)\n",
        "X_train_prediction=model.predict(X_train)\n",
        "X_train_accuracy=accuracy_score(X_train_prediction,y_train)\n",
        "print(X_train_accuracy)\n",
        "X_test_prediction=model.predict(X_test)\n",
        "X_test_accuracy=accuracy_score(X_test_prediction,y_test)\n",
        "print(X_test_accuracy)"
      ],
      "metadata": {
        "colab": {
          "base_uri": "https://localhost:8080/"
        },
        "id": "lAs1Xn31lCA1",
        "outputId": "e43dfbbc-e861-4913-e2f4-7c343c411d07"
      },
      "execution_count": 33,
      "outputs": [
        {
          "output_type": "stream",
          "name": "stdout",
          "text": [
            "0.809809375\n",
            "0.78486875\n"
          ]
        }
      ]
    },
    {
      "cell_type": "code",
      "source": [
        "#to save the model\n",
        "import pickle\n",
        "model_name=\"twitter_analysis-model.sav\"\n",
        "pickle.dump(model,open(\"twitter_analysis_model.sav\",\"wb\"))\n"
      ],
      "metadata": {
        "id": "Hg7w8WZDtM2i"
      },
      "execution_count": 36,
      "outputs": []
    },
    {
      "cell_type": "code",
      "source": [
        "# to load the model\n",
        "loaded_model=pickle.load(open(\"twitter_analysis_model.sav\",\"rb\"))\n",
        "user_data=input(\"enter the tweet:\")\n",
        "user_data=stemming(user_data)\n",
        "user_data=[user_data]\n",
        "user_data=vectorizer.transform(user_data)\n",
        "prediction=loaded_model.predict(user_data)\n",
        "if prediction[0]==0:\n",
        "  print(\"negative TWEET\")\n",
        "else:\n",
        "  print(\"positive TWEET\")"
      ],
      "metadata": {
        "colab": {
          "base_uri": "https://localhost:8080/"
        },
        "id": "ZL6YCfMfu_9F",
        "outputId": "51cd43d9-5b33-4a53-dcd4-1e808b568bc9"
      },
      "execution_count": 42,
      "outputs": [
        {
          "output_type": "stream",
          "name": "stdout",
          "text": [
            "enter the tweet:it is too vulgur\n",
            "positive TWEET\n"
          ]
        }
      ]
    }
  ],
  "metadata": {
    "colab": {
      "provenance": []
    },
    "kernelspec": {
      "display_name": "Python 3",
      "name": "python3"
    },
    "language_info": {
      "name": "python"
    }
  },
  "nbformat": 4,
  "nbformat_minor": 0
}